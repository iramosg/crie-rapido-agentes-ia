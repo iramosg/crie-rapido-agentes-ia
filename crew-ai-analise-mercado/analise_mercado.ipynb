{
 "cells": [
  {
   "cell_type": "code",
   "execution_count": null,
   "metadata": {},
   "outputs": [],
   "source": [
    "from dotenv import load_dotenv, find_dotenv\n",
    "load_dotenv(find_dotenv())"
   ]
  },
  {
   "cell_type": "code",
   "execution_count": 28,
   "metadata": {},
   "outputs": [],
   "source": [
    "from crewai import Agent, Task, Crew"
   ]
  },
  {
   "cell_type": "markdown",
   "metadata": {},
   "source": [
    "### Agentes\n",
    "- Pesquisador de Mercado\n",
    "- Analista de Tendências\n",
    "- Redator do Relatório"
   ]
  },
  {
   "cell_type": "code",
   "execution_count": 29,
   "metadata": {},
   "outputs": [],
   "source": [
    "pesquisador_mercado = Agent(\n",
    "    role=\"Pesquisador de Mercado\",\n",
    "    goal=\"Coletar e organizar informações relevantes sobre {sector}\",\n",
    "    backstory=\"\"\"\n",
    "    Você é um pesquisador de mercado experiente que analisa tendências de mercado\n",
    "    e coleta dados relevantes sobre o setor {sector}. Seu trablho é garantir que\n",
    "    todas as informações estejam atualizadas e bem documentadas.\n",
    "    \"\"\",\n",
    "    allow_delegation=False,\n",
    "    verbose=True\n",
    ")"
   ]
  },
  {
   "cell_type": "code",
   "execution_count": 30,
   "metadata": {},
   "outputs": [],
   "source": [
    "analista_tendencias = Agent(\n",
    "    role=\"Analista de Tendências\",\n",
    "    goal=\"Analisar as tendências de mercado para o setor {sector}\",\n",
    "    backstory=\"\"\"\n",
    "    Você é um analista de tendências de mercado que analisa as informações coletadas\n",
    "    pelo pesquisador de mercado e identifica as tendências, padrões e oportunidades mais relevantes para o setor\n",
    "    {sector}. Seu trabalho é fornecer insights estratégicos sobre as tendências de mercado\n",
    "    e suas implicações para a empresa.\n",
    "    \"\"\",\n",
    "    allow_delegation=False,\n",
    "    verbose=True\n",
    ")"
   ]
  },
  {
   "cell_type": "code",
   "execution_count": 31,
   "metadata": {},
   "outputs": [],
   "source": [
    "redator_relatorio = Agent(\n",
    "    role=\"Redator do Relatório\",\n",
    "    goal=\"Redigir um relatório detalhado sobre as tendências de mercado para o setor {sector}\",\n",
    "    backstory=\"\"\"\n",
    "    Você é um redator de relatórios de mercado que escreve um relatório detalhado sobre as tendências de mercado\n",
    "    para o setor {sector}. Seu trabalho é fornecer um relatório claro e informativo que ajude a empresa a tomar decisões\n",
    "    estratégicas com base nas tendências de mercado.\n",
    "    \"\"\",\n",
    "    allow_delegation=False,\n",
    "    verbose=True\n",
    ")"
   ]
  },
  {
   "cell_type": "code",
   "execution_count": 32,
   "metadata": {},
   "outputs": [],
   "source": [
    "especialista_seo = Agent(\n",
    "    role=\"Especialista de SEO\",\n",
    "    goal=\"Gerar conteúdos otimizados para mecanismos de busca com base nas tendências de mercado do setor {sector}\",\n",
    "    backstory=\"\"\"\n",
    "    Você é um especialista em SEO com sólida experiência em otimização de conteúdo digital para motores de busca.\n",
    "    Com base nos relatórios e análises de mercado do setor {sector}, seu trabalho é transformar essas informações\n",
    "    em conteúdos altamente relevantes e otimizados para SEO. Isso inclui a criação de títulos atrativos,\n",
    "    meta descrições eficazes, palavras-chave estratégicas e textos introdutórios que melhorem a visibilidade online da empresa.\n",
    "    Seu foco é garantir que o conteúdo seja não apenas informativo, mas também facilmente encontrado por usuários e indexado por mecanismos de busca.\n",
    "    \"\"\",\n",
    "    allow_delegation=False,\n",
    "    verbose=True\n",
    ")"
   ]
  },
  {
   "cell_type": "code",
   "execution_count": 33,
   "metadata": {},
   "outputs": [],
   "source": [
    "coletor_dados = Task(\n",
    "    description=(\n",
    "        \"1. Pesquisar e coletar informações sobre o setor {sector}.\"\n",
    "        \"2. Identificar os principais players, tendências e oportunidades do setor.\"\n",
    "        \"3. Organize os dados de forma clara e objetiva para análise.\"\n",
    "    ),\n",
    "    expected_output=\"\"\"\n",
    "    Relatório detalhado e estruturadosobre as tendências de mercado para o setor {sector}.\n",
    "    \"\"\",\n",
    "    agent=pesquisador_mercado\n",
    ")"
   ]
  },
  {
   "cell_type": "code",
   "execution_count": 34,
   "metadata": {},
   "outputs": [],
   "source": [
    "analise_tendencias = Task(\n",
    "    description=(\n",
    "        \"1. Analisar e examinar as informações coletadas pelo pesquisador de mercado.\"\n",
    "        \"2. Identificar as tendências, padrões e oportunidades mais relevantes para o setor {sector}.\"\n",
    "        \"3. Fornecer insights estratégicos sobre as tendências de mercado.\"\n",
    "        \"4. Elaborar uma análise detalhada sobre as tendências de mercado.\"\n",
    "    ),\n",
    "    expected_output=\"\"\"\n",
    "    Relatório detalhado e estruturado sobre as tendências de mercado para o setor {sector}.\n",
    "    \"\"\",\n",
    "    agent=analista_tendencias\n",
    ")"
   ]
  },
  {
   "cell_type": "code",
   "execution_count": 35,
   "metadata": {},
   "outputs": [],
   "source": [
    "redacao_relatorio = Task(\n",
    "    description=(\n",
    "        \"1. Usar a análise de tendências de mercado para o setor {sector} como base para a escrita do relatório.\"\n",
    "        \"2. Redigir um relatório detalhado sobre as tendências de mercado para o setor {sector}.\"\n",
    "        \"3. Garantir que o relatório seja claro e objetivo.\"\n",
    "        \"4. Incluir insights estratégicos sobre as tendências de mercado.\"\n",
    "        \"5. Fornecer uma análise detalhada sobre as tendências de mercado.\"\n",
    "        \"6. Apresentar um resumo executivo do relatório e recomendações estratégicas.\"\n",
    "    ),\n",
    "    expected_output=\"\"\"\n",
    "    Relatório detalhado e estruturado sobre as tendências de mercado para o setor {sector} em formato markdown para leitura e apresentação.\n",
    "    Remover todas as marcações markdown que não são conteúdo.\n",
    "    \"\"\",\n",
    "    agent=redator_relatorio\n",
    ")"
   ]
  },
  {
   "cell_type": "code",
   "execution_count": 36,
   "metadata": {},
   "outputs": [],
   "source": [
    "tarefa_seo = Task(\n",
    "    description=\"A partir do relatório redigido, gere:\\n\"\n",
    "                \"- Título otimizado para SEO\\n\"\n",
    "                \"- Meta descrição com até 160 caracteres\\n\"\n",
    "                \"- Lista de palavras-chave (5 a 10)\\n\"\n",
    "                \"- Parágrafo introdutório otimizado para SEO (até 150 palavras)\",\n",
    "    expected_output=\"Título SEO, meta descrição, palavras-chave e parágrafo introdutório SEO para o setor {sector}.\",\n",
    "    agent=especialista_seo\n",
    ")"
   ]
  },
  {
   "cell_type": "code",
   "execution_count": null,
   "metadata": {},
   "outputs": [],
   "source": [
    "crew = Crew(\n",
    "    agents=[pesquisador_mercado, analista_tendencias, redator_relatorio],\n",
    "    tasks=[coletor_dados, analise_tendencias, tarefa_seo, redacao_relatorio],\n",
    "    verbose=True,\n",
    "    process=\"sequential\"\n",
    ")\n",
    "\n",
    "resultado = crew.kickoff(inputs={\"sector\": \"Inteligência Artificial\"})"
   ]
  },
  {
   "cell_type": "code",
   "execution_count": 40,
   "metadata": {},
   "outputs": [],
   "source": [
    "import pdfkit\n",
    "\n",
    "with open(\"relatorio.md\", \"w\", encoding=\"utf-8\") as file:\n",
    "    file.write(str(resultado))\n",
    "\n",
    "import markdown\n",
    "\n",
    "html = markdown.markdown(str(resultado))\n",
    "with open(\"relatorio.html\", \"w\", encoding=\"utf-8\") as file:\n",
    "    file.write(html)"
   ]
  }
 ],
 "metadata": {
  "kernelspec": {
   "display_name": ".venv",
   "language": "python",
   "name": "python3"
  },
  "language_info": {
   "codemirror_mode": {
    "name": "ipython",
    "version": 3
   },
   "file_extension": ".py",
   "mimetype": "text/x-python",
   "name": "python",
   "nbconvert_exporter": "python",
   "pygments_lexer": "ipython3",
   "version": "3.12.10"
  }
 },
 "nbformat": 4,
 "nbformat_minor": 2
}
