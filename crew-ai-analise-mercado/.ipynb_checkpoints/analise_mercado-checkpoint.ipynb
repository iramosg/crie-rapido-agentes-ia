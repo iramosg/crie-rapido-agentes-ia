{
 "cells": [
  {
   "cell_type": "code",
   "execution_count": 1,
   "metadata": {},
   "outputs": [
    {
     "data": {
      "text/plain": [
       "True"
      ]
     },
     "execution_count": 1,
     "metadata": {},
     "output_type": "execute_result"
    }
   ],
   "source": [
    "from dotenv import load_dotenv, find_dotenv\n",
    "load_dotenv(find_dotenv())"
   ]
  },
  {
   "cell_type": "code",
   "execution_count": 2,
   "metadata": {},
   "outputs": [],
   "source": [
    "from crewai import Agent, Task, Crew"
   ]
  },
  {
   "cell_type": "markdown",
   "metadata": {},
   "source": [
    "### Agentes\n",
    "- Pesquisador de Mercado\n",
    "- Analista de Tendências\n",
    "- Redator do Relatório"
   ]
  },
  {
   "cell_type": "code",
   "execution_count": 3,
   "metadata": {},
   "outputs": [],
   "source": [
    "pesquisador_mercado = Agent(\n",
    "    role=\"Pesquisador de Mercado\",\n",
    "    goal=\"Coletar e organizar informações relevantes sobre {sector}\",\n",
    "    backstory=\"\"\"\n",
    "    Você é um pesquisador de mercado experiente que analisa tendências de mercado\n",
    "    e coleta dados relevantes sobre o setor {sector}. Seu trablho é garantir que\n",
    "    todas as informações estejam atualizadas e bem documentadas.\n",
    "    \"\"\",\n",
    "    allow_delegation=False,\n",
    "    verbose=True\n",
    ")"
   ]
  },
  {
   "cell_type": "code",
   "execution_count": 4,
   "metadata": {},
   "outputs": [],
   "source": [
    "analista_tendencias = Agent(\n",
    "    role=\"Analista de Tendências\",\n",
    "    goal=\"Analisar as tendências de mercado para o setor {sector}\",\n",
    "    backstory=\"\"\"\n",
    "    Você é um analista de tendências de mercado que analisa as informações coletadas\n",
    "    pelo pesquisador de mercado e identifica as tendências, padrões e oportunidades mais relevantes para o setor\n",
    "    {sector}. Seu trabalho é fornecer insights estratégicos sobre as tendências de mercado\n",
    "    e suas implicações para a empresa.\n",
    "    \"\"\",\n",
    "    allow_delegation=False,\n",
    "    verbose=True\n",
    ")"
   ]
  },
  {
   "cell_type": "code",
   "execution_count": 5,
   "metadata": {},
   "outputs": [],
   "source": [
    "redator_relatorio = Agent(\n",
    "    role=\"Redator do Relatório\",\n",
    "    goal=\"Redigir um relatório detalhado sobre as tendências de mercado para o setor {sector}\",\n",
    "    backstory=\"\"\"\n",
    "    Você é um redator de relatórios de mercado que escreve um relatório detalhado sobre as tendências de mercado\n",
    "    para o setor {sector}. Seu trabalho é fornecer um relatório claro e informativo que ajude a empresa a tomar decisões\n",
    "    estratégicas com base nas tendências de mercado.\n",
    "    \"\"\",\n",
    "    allow_delegation=False,\n",
    "    verbose=True\n",
    ")"
   ]
  },
  {
   "cell_type": "code",
   "execution_count": 6,
   "metadata": {},
   "outputs": [],
   "source": [
    "coletor_dados = Task(\n",
    "    description=(\n",
    "        \"1. Pesquisar e coletar informações sobre o setor {sector}.\"\n",
    "        \"2. Identificar os principais players, tendências e oportunidades do setor.\"\n",
    "        \"3. Organize os dados de forma clara e objetiva para análise.\"\n",
    "    ),\n",
    "    expected_output=\"\"\"\n",
    "    Relatório detalhado e estruturadosobre as tendências de mercado para o setor {sector}.\n",
    "    \"\"\",\n",
    "    agent=pesquisador_mercado\n",
    ")"
   ]
  },
  {
   "cell_type": "code",
   "execution_count": 7,
   "metadata": {},
   "outputs": [],
   "source": [
    "analise_tendencias = Task(\n",
    "    description=(\n",
    "        \"1. Analisar e examinar as informações coletadas pelo pesquisador de mercado.\"\n",
    "        \"2. Identificar as tendências, padrões e oportunidades mais relevantes para o setor {sector}.\"\n",
    "        \"3. Fornecer insights estratégicos sobre as tendências de mercado.\"\n",
    "        \"4. Elaborar uma análise detalhada sobre as tendências de mercado.\"\n",
    "    ),\n",
    "    expected_output=\"\"\"\n",
    "    Relatório detalhado e estruturado sobre as tendências de mercado para o setor {sector}.\n",
    "    \"\"\",\n",
    "    agent=analista_tendencias\n",
    ")"
   ]
  },
  {
   "cell_type": "code",
   "execution_count": 8,
   "metadata": {},
   "outputs": [],
   "source": [
    "redator_relatorio = Task(\n",
    "    description=(\n",
    "        \"1. Usar a análise de tendências de mercado para o setor {sector} como base para a escrita do relatório.\"\n",
    "        \"2. Redigir um relatório detalhado sobre as tendências de mercado para o setor {sector}.\"\n",
    "        \"3. Garantir que o relatório seja claro e objetivo.\"\n",
    "        \"4. Incluir insights estratégicos sobre as tendências de mercado.\"\n",
    "        \"5. Fornecer uma análise detalhada sobre as tendências de mercado.\"\n",
    "        \"6. Apresentar um resumo executivo do relatório e recomendações estratégicas.\"\n",
    "    ),\n",
    "    expected_output=\"\"\"\n",
    "    Relatório detalhado e estruturado sobre as tendências de mercado para o setor {sector} em formato markdown para leitura humana e apresentação.\n",
    "    \"\"\",\n",
    "    agent=redator_relatorio\n",
    ")"
   ]
  },
  {
   "cell_type": "code",
   "execution_count": null,
   "metadata": {},
   "outputs": [],
   "source": [
    "crew = Crew(\n",
    "    agents = [pesquisador_mercado, analista_tendencias, redator_relatorio],\n",
    "    tasks = [coletor_dados, analise_tendencias, redator_relatorio],\n",
    "    verbose = True\n",
    ")"
   ]
  }
 ],
 "metadata": {
  "kernelspec": {
   "display_name": "Python 3 (ipykernel)",
   "language": "python",
   "name": "python3"
  },
  "language_info": {
   "codemirror_mode": {
    "name": "ipython",
    "version": 3
   },
   "file_extension": ".py",
   "mimetype": "text/x-python",
   "name": "python",
   "nbconvert_exporter": "python",
   "pygments_lexer": "ipython3",
   "version": "3.12.10"
  }
 },
 "nbformat": 4,
 "nbformat_minor": 4
}
