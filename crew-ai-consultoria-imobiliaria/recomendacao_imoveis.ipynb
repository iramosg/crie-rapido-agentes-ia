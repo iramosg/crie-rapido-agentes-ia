{
 "cells": [
  {
   "cell_type": "code",
   "execution_count": 48,
   "metadata": {},
   "outputs": [],
   "source": [
    "import json\n",
    "import os\n",
    "from datetime import datetime, timedelta\n",
    "from crewai import Agent, Task, Crew, Process\n",
    "from crewai_tools import CSVSearchTool\n",
    "from dotenv import load_dotenv, find_dotenv\n",
    "from langchain.tools import Tool\n",
    "from langchain_community.tools import DuckDuckGoSearchResults"
   ]
  },
  {
   "cell_type": "code",
   "execution_count": 49,
   "metadata": {},
   "outputs": [],
   "source": [
    "from langchain_openai import ChatOpenAI\n",
    "load_dotenv(find_dotenv())\n",
    "llm = ChatOpenAI(model=\"gpt-3.5-turbo-0125\")"
   ]
  },
  {
   "cell_type": "code",
   "execution_count": null,
   "metadata": {},
   "outputs": [],
   "source": [
    "csv_imoveis = CSVSearchTool(csv=\"files/imoveis.csv\")"
   ]
  },
  {
   "cell_type": "code",
   "execution_count": 51,
   "metadata": {},
   "outputs": [],
   "source": [
    "#Agente Corretor de Imóveis\n",
    "corretor_imoveis = Agent(\n",
    "    role=\"Corretor de Imóveis\",\n",
    "    goal=\"Obtenha as preferências do cliente e busque imóveis compatíveis no banco de dados\",\n",
    "    backstory=\"Especialista no mercado imobiliário, encontra as melhores opções baseadas no perfil do cliente\",\n",
    "    verbose=True,\n",
    "    max_iter=5,\n",
    "    tools=[csv_imoveis],\n",
    "    allow_delegation=False,\n",
    "    memory=True\n",
    ")"
   ]
  },
  {
   "cell_type": "code",
   "execution_count": 52,
   "metadata": {},
   "outputs": [],
   "source": [
    "#Tarefa - Buscar imóveis\n",
    "buscar_imoveis = Task(\n",
    "    description=\"Pesquise imóveis na região desejada pelo cliente, considerando faixa de preço e tipo de imóvel\",\n",
    "    expected_output=\"Lista de imóveis disponíveis com detalhes sobre localização, preço e características\",\n",
    "    agent=corretor_imoveis\n",
    ")"
   ]
  },
  {
   "cell_type": "code",
   "execution_count": 53,
   "metadata": {},
   "outputs": [],
   "source": [
    "from crewai.tools import BaseTool\n",
    "\n",
    "def obter_precos_imoveis(cidade: str = \"geral\"):\n",
    "    precos = {\n",
    "        \"São Paulo\": {\"tendencia\": \"aumento\", \"percentual\": 5.2},\n",
    "        \"Rio de Janeiro\": {\"tendencia\": \"estavel\", \"percentual\": 0.0},\n",
    "        \"Belo Horizonte\": {\"tendencia\": \"queda\", \"percentual\": -3.1},\n",
    "        \"geral\": {\"tendencia\": \"aumento\", \"percentual\": 4.0}\n",
    "    }\n",
    "    return precos.get(cidade, precos[\"geral\"])\n",
    "\n",
    "class TendenciaPrecosImoveisTool(BaseTool):\n",
    "    name: str = \"Analisador de Preços Imobiliários\"\n",
    "    description: str = \"Obtém tendências de preços de imóveis, com base na cidade especificada.\"\n",
    "\n",
    "    def _run(self, cidade: str) -> dict:\n",
    "        \"\"\"\n",
    "        Executa a análise de preços imobiliários e retorna a tendência com base na cidade.\n",
    "        \"\"\"\n",
    "        try:\n",
    "            return obter_precos_imoveis(cidade)\n",
    "        except Exception as e:\n",
    "            return {\"erro\":f\"Erro ao obter tendências de preços {str(e)}\"}"
   ]
  },
  {
   "cell_type": "code",
   "execution_count": 54,
   "metadata": {},
   "outputs": [],
   "source": [
    "analista_mercado = Agent(\n",
    "    role=\"Analista de mercado imobiliário\",\n",
    "    goal=\"Analisa tendências de preços e ajuda a prever a valorização ou desvalorização dos imóveis na cidade {cidade}\",\n",
    "    backstory=\"Experiente no setor, usa dados históricos para prever preços futuros\",\n",
    "    verbose=True,\n",
    "    max_iter=5,\n",
    "    allow_delegation=False,\n",
    "    memory=True\n",
    ")"
   ]
  },
  {
   "cell_type": "code",
   "execution_count": 55,
   "metadata": {},
   "outputs": [],
   "source": [
    "obter_tendencias = Task(\n",
    "    description=\"\"\"\n",
    "    Analise o histórico de preços de imóveis na cidade {cidade} e forneça insights sobre\n",
    "    valorização ou desvalorização. Considere o tipo de imóvel {tipo_imovel} e a faixa de preço {faixa_preco}\n",
    "    \"\"\",\n",
    "    expected_output=\"Resumo da tendência dos preços no mercado imobiliário\",\n",
    "    tools=[TendenciaPrecosImoveisTool()],\n",
    "    agent=analista_mercado,\n",
    "    parameters=[\"cidade\"]\n",
    ")"
   ]
  },
  {
   "cell_type": "code",
   "execution_count": 56,
   "metadata": {},
   "outputs": [],
   "source": [
    "analista_noticias = Agent(\n",
    "    role=\"Analista de notícias imobiliárias\",\n",
    "    goal=\"Busca notícias relevantes sobre o mercado imobiliário para avaliar fatores externos\",\n",
    "    backstory=\"Especialista em analisar notícias e tendências econômicas que afetam os preços dos imóveis\",\n",
    "    verbose=True,\n",
    "    max_iter=5,\n",
    "    memory=True\n",
    ")"
   ]
  },
  {
   "cell_type": "code",
   "execution_count": 57,
   "metadata": {},
   "outputs": [],
   "source": [
    "searchTool = DuckDuckGoSearchResults(backend=\"news\", num_results=5)"
   ]
  },
  {
   "cell_type": "code",
   "execution_count": 58,
   "metadata": {},
   "outputs": [],
   "source": [
    "buscar_noticias = Task(\n",
    "    description=f\"Pesquise notícias recentes sobre o mercado imobiliário: Data atual: {datetime.now()}\",\n",
    "    expected_output=\"Resumo das principais notícias e tendências imobiliárias\",\n",
    "    agent=analista_noticias,\n",
    "    tool=[searchTool]\n",
    ")"
   ]
  },
  {
   "cell_type": "code",
   "execution_count": 59,
   "metadata": {},
   "outputs": [],
   "source": [
    "consultor_financeiro = Agent(\n",
    "    role=\"Consultor financeiro\",\n",
    "    goal=\"Analisa opções de financiamento imobiliário com base no perfil do cliente\",\n",
    "    backstory=\"Especialista em crédito imobiliário, ajuda clientes a escolherem as melhores opções de financiamento\",\n",
    "    verbose=True,\n",
    "    allow_delegation=False,\n",
    "    max_iter=5,\n",
    "    memory=True\n",
    ")"
   ]
  },
  {
   "cell_type": "code",
   "execution_count": 60,
   "metadata": {},
   "outputs": [],
   "source": [
    "calcular_financiamento = Task(\n",
    "    description=\"Analise a renda do cliente e sugira opções de financiamento viáveis\",\n",
    "    expected_output=\"Tabela comparativa com diferentes financiamentos, taxa de juros e prazos\",\n",
    "    agent=consultor_financeiro\n",
    ")"
   ]
  },
  {
   "cell_type": "code",
   "execution_count": 61,
   "metadata": {},
   "outputs": [],
   "source": [
    "redator = Agent(\n",
    "    role=\"Redator de relatórios imobiliários\",\n",
    "    goal=\"Gera um relatório completo e persuasivo com base nas analises de mercado e imóveis encontrados\",\n",
    "    backstory=\"Especialista em comunicação, traduz dados complexos para clientes de forma clara e objetiva\",\n",
    "    verbose=True,\n",
    "    allow_delegation=False,\n",
    "    max_iter=5,\n",
    "    memory=True\n",
    ")"
   ]
  },
  {
   "cell_type": "code",
   "execution_count": 62,
   "metadata": {},
   "outputs": [],
   "source": [
    "gerar_relatorio = Task(\n",
    "    description=\"Gere um relatório detalhado sobre o melhor imóvel encontrado, considerando preços, tendências e financiamento.\",\n",
    "    expected_output=\"Relatório formatado com resumo do mercado, opções recomendadas e justificativa da escolha. Deve ser elaborado no idioma português do Brasil.\",\n",
    "    agent=redator,\n",
    "    context=[buscar_imoveis, obter_tendencias, buscar_noticias, calcular_financiamento]\n",
    ")"
   ]
  },
  {
   "cell_type": "code",
   "execution_count": 63,
   "metadata": {},
   "outputs": [],
   "source": [
    "crew = Crew(\n",
    "    agents=[corretor_imoveis, analista_mercado, analista_noticias, consultor_financeiro, redator],\n",
    "    tasks=[buscar_imoveis, obter_tendencias, buscar_noticias, calcular_financiamento, gerar_relatorio],\n",
    "    verbose=True,\n",
    "    process=Process.hierarchical,\n",
    "    full_output=True,\n",
    "    share_crew=False,\n",
    "    max_iter=15,\n",
    "    manager_llm=llm\n",
    ")"
   ]
  },
  {
   "cell_type": "code",
   "execution_count": null,
   "metadata": {},
   "outputs": [],
   "source": [
    "resultado = crew.kickoff(inputs={\n",
    "    \"cidade\": \"Rio de Janeiro\",\n",
    "    \"tipo_imovel\": \"Apartamento\",\n",
    "    \"faixa_preco\": \"50000-700000\"\n",
    "})"
   ]
  },
  {
   "cell_type": "code",
   "execution_count": 65,
   "metadata": {},
   "outputs": [],
   "source": [
    "import pdfkit\n",
    "\n",
    "with open(\"relatorio.md\", \"w\", encoding=\"utf-8\") as file:\n",
    "    file.write(str(resultado))\n",
    "\n",
    "import markdown\n",
    "\n",
    "html = markdown.markdown(str(resultado))\n",
    "with open(\"relatorio.html\", \"w\", encoding=\"utf-8\") as file:\n",
    "    file.write(html)"
   ]
  }
 ],
 "metadata": {
  "kernelspec": {
   "display_name": ".venv",
   "language": "python",
   "name": "python3"
  },
  "language_info": {
   "codemirror_mode": {
    "name": "ipython",
    "version": 3
   },
   "file_extension": ".py",
   "mimetype": "text/x-python",
   "name": "python",
   "nbconvert_exporter": "python",
   "pygments_lexer": "ipython3",
   "version": "3.12.10"
  }
 },
 "nbformat": 4,
 "nbformat_minor": 2
}
