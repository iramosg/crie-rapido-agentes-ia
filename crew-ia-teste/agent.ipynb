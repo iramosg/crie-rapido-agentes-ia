{
 "cells": [
  {
   "cell_type": "code",
   "execution_count": 2,
   "metadata": {},
   "outputs": [],
   "source": [
    "from dotenv import load_dotenv\n",
    "_ = load_dotenv()\n",
    "from crewai import Crew, Process, Agent, Task"
   ]
  },
  {
   "cell_type": "code",
   "execution_count": 3,
   "metadata": {},
   "outputs": [],
   "source": [
    "planejador_de_viagem = Agent(\n",
    "    role=\"Planejador de viagem\",\n",
    "    goal=\"Planejar todos os detalhes de uma viagem, incluindo roteiros e atividades\",\n",
    "    backstory=\"\"\"\n",
    "    Você é um especialista em planejamento de viagens, sempre em busca de\n",
    "    novas aventuras e experiências. Seu objetivo é garantir os detalhes da viagem\n",
    "    sejam organizados de maneira eficiente e agradável.\n",
    "    \"\"\",\n",
    "    verbose=True\n",
    ")"
   ]
  },
  {
   "cell_type": "code",
   "execution_count": 4,
   "metadata": {},
   "outputs": [],
   "source": [
    "orcamentista = Agent(\n",
    "    role=\"Orçamentista de viagem\",\n",
    "    goal=\"Estimar o custo total de uma viagem para Europa considerando transporte, hospedagem, alimentação e atividades\",\n",
    "    backstory=\"\"\"\n",
    "    Você é um analista financeiro focado em viagem. Sua missão é garantir\n",
    "    que os custos estejam dentro do orçamento, criando estimativas precisas\n",
    "    para cada parte da viagem\n",
    "    \"\"\",\n",
    "    verbose=True\n",
    ")"
   ]
  },
  {
   "cell_type": "code",
   "execution_count": 5,
   "metadata": {},
   "outputs": [],
   "source": [
    "planeja_roteiro=Task(\n",
    "    description=\"Crie um roteiro detalhado para viagem, incluindo as cidades, atividades e transporte\",\n",
    "    agent=planejador_de_viagem,\n",
    "    expected_output=\"\"\"\n",
    "    Um roteiro com a sequência de cidades a serem visitadas,\n",
    "    as principais atividades e o tipo de transporte utilizado.\n",
    "    \"\"\"\n",
    ")"
   ]
  },
  {
   "cell_type": "code",
   "execution_count": 6,
   "metadata": {},
   "outputs": [],
   "source": [
    "estima_orcamento=Task(\n",
    "    description=\"\"\"\n",
    "    Calcule o orçamento total da viagem, levando em consideração\n",
    "    as cidades, transporte, hospedagem e atividades.\n",
    "    \"\"\",\n",
    "    agent=orcamentista,\n",
    "    expected_output=\"\"\"\n",
    "    Uma estimativa de orçamento detalhada, com os custos aproximados para cada item da viagem.\n",
    "    Essa estimativa deve considerar a moeda Real.\n",
    "    \"\"\"\n",
    ")"
   ]
  },
  {
   "cell_type": "code",
   "execution_count": 7,
   "metadata": {},
   "outputs": [],
   "source": [
    "viagem_crew = Crew(\n",
    "    agents=[planejador_de_viagem, orcamentista],\n",
    "    tasks=[planeja_roteiro, estima_orcamento],\n",
    "    process=Process.sequential\n",
    ")"
   ]
  },
  {
   "cell_type": "code",
   "execution_count": null,
   "metadata": {},
   "outputs": [],
   "source": [
    "result = viagem_crew.kickoff()"
   ]
  },
  {
   "cell_type": "code",
   "execution_count": 9,
   "metadata": {},
   "outputs": [],
   "source": [
    "with open('resultado_viagem.txt', 'w', encoding='utf-8') as f:\n",
    "    f.write(result.raw)"
   ]
  }
 ],
 "metadata": {
  "kernelspec": {
   "display_name": ".venv",
   "language": "python",
   "name": "python3"
  },
  "language_info": {
   "codemirror_mode": {
    "name": "ipython",
    "version": 3
   },
   "file_extension": ".py",
   "mimetype": "text/x-python",
   "name": "python",
   "nbconvert_exporter": "python",
   "pygments_lexer": "ipython3",
   "version": "3.12.10"
  }
 },
 "nbformat": 4,
 "nbformat_minor": 2
}
